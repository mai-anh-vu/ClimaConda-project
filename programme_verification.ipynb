{
 "cells": [
  {
   "cell_type": "markdown",
   "id": "f958cbd6",
   "metadata": {},
   "source": [
    "Le but de ce programme est de vérifier que les datas de notre df 'final_df_UE.csv' correspondent bien aux data de climat watch 'historical_emissions.csv'"
   ]
  },
  {
   "cell_type": "code",
   "execution_count": 1,
   "id": "8ad2399e",
   "metadata": {},
   "outputs": [],
   "source": [
    "import pandas as pd\n",
    "\n",
    "df = pd.read_csv('final_df_UE.csv')\n",
    "df.drop('Unnamed: 0', axis = 1, inplace = True)\n",
    "\n",
    "df2 = pd.read_csv('historical_emissions.csv')"
   ]
  },
  {
   "cell_type": "code",
   "execution_count": 2,
   "id": "a63f9f6d",
   "metadata": {
    "scrolled": true
   },
   "outputs": [
    {
     "name": "stdout",
     "output_type": "stream",
     "text": [
      "Notre DataFrame\n"
     ]
    },
    {
     "data": {
      "text/html": [
       "<div>\n",
       "<style scoped>\n",
       "    .dataframe tbody tr th:only-of-type {\n",
       "        vertical-align: middle;\n",
       "    }\n",
       "\n",
       "    .dataframe tbody tr th {\n",
       "        vertical-align: top;\n",
       "    }\n",
       "\n",
       "    .dataframe thead th {\n",
       "        text-align: right;\n",
       "    }\n",
       "</style>\n",
       "<table border=\"1\" class=\"dataframe\">\n",
       "  <thead>\n",
       "    <tr style=\"text-align: right;\">\n",
       "      <th></th>\n",
       "      <th>Country</th>\n",
       "      <th>Sector</th>\n",
       "      <th>Gas</th>\n",
       "      <th>Unit</th>\n",
       "      <th>year</th>\n",
       "      <th>cons</th>\n",
       "    </tr>\n",
       "  </thead>\n",
       "  <tbody>\n",
       "    <tr>\n",
       "      <th>0</th>\n",
       "      <td>Austria</td>\n",
       "      <td>Agriculture</td>\n",
       "      <td>All GHG</td>\n",
       "      <td>MtCO₂e</td>\n",
       "      <td>2019</td>\n",
       "      <td>7.21</td>\n",
       "    </tr>\n",
       "    <tr>\n",
       "      <th>1</th>\n",
       "      <td>Austria</td>\n",
       "      <td>Agriculture</td>\n",
       "      <td>CH4</td>\n",
       "      <td>MtCO₂e</td>\n",
       "      <td>2019</td>\n",
       "      <td>4.64</td>\n",
       "    </tr>\n",
       "    <tr>\n",
       "      <th>2</th>\n",
       "      <td>Austria</td>\n",
       "      <td>Agriculture</td>\n",
       "      <td>N2O</td>\n",
       "      <td>MtCO₂e</td>\n",
       "      <td>2019</td>\n",
       "      <td>2.57</td>\n",
       "    </tr>\n",
       "    <tr>\n",
       "      <th>3</th>\n",
       "      <td>Austria</td>\n",
       "      <td>Building</td>\n",
       "      <td>All GHG</td>\n",
       "      <td>MtCO₂e</td>\n",
       "      <td>2019</td>\n",
       "      <td>8.41</td>\n",
       "    </tr>\n",
       "    <tr>\n",
       "      <th>4</th>\n",
       "      <td>Austria</td>\n",
       "      <td>Building</td>\n",
       "      <td>CO2</td>\n",
       "      <td>MtCO₂e</td>\n",
       "      <td>2019</td>\n",
       "      <td>7.73</td>\n",
       "    </tr>\n",
       "  </tbody>\n",
       "</table>\n",
       "</div>"
      ],
      "text/plain": [
       "   Country       Sector      Gas    Unit  year  cons\n",
       "0  Austria  Agriculture  All GHG  MtCO₂e  2019  7.21\n",
       "1  Austria  Agriculture      CH4  MtCO₂e  2019  4.64\n",
       "2  Austria  Agriculture      N2O  MtCO₂e  2019  2.57\n",
       "3  Austria     Building  All GHG  MtCO₂e  2019  8.41\n",
       "4  Austria     Building      CO2  MtCO₂e  2019  7.73"
      ]
     },
     "metadata": {},
     "output_type": "display_data"
    },
    {
     "name": "stdout",
     "output_type": "stream",
     "text": [
      "ClimatWathData\n"
     ]
    },
    {
     "data": {
      "text/html": [
       "<div>\n",
       "<style scoped>\n",
       "    .dataframe tbody tr th:only-of-type {\n",
       "        vertical-align: middle;\n",
       "    }\n",
       "\n",
       "    .dataframe tbody tr th {\n",
       "        vertical-align: top;\n",
       "    }\n",
       "\n",
       "    .dataframe thead th {\n",
       "        text-align: right;\n",
       "    }\n",
       "</style>\n",
       "<table border=\"1\" class=\"dataframe\">\n",
       "  <thead>\n",
       "    <tr style=\"text-align: right;\">\n",
       "      <th></th>\n",
       "      <th>Country</th>\n",
       "      <th>Data source</th>\n",
       "      <th>Sector</th>\n",
       "      <th>Gas</th>\n",
       "      <th>Unit</th>\n",
       "      <th>2019</th>\n",
       "      <th>2018</th>\n",
       "      <th>2017</th>\n",
       "      <th>2016</th>\n",
       "      <th>2015</th>\n",
       "      <th>...</th>\n",
       "      <th>1999</th>\n",
       "      <th>1998</th>\n",
       "      <th>1997</th>\n",
       "      <th>1996</th>\n",
       "      <th>1995</th>\n",
       "      <th>1994</th>\n",
       "      <th>1993</th>\n",
       "      <th>1992</th>\n",
       "      <th>1991</th>\n",
       "      <th>1990</th>\n",
       "    </tr>\n",
       "  </thead>\n",
       "  <tbody>\n",
       "    <tr>\n",
       "      <th>0</th>\n",
       "      <td>Austria</td>\n",
       "      <td>CAIT</td>\n",
       "      <td>Agriculture</td>\n",
       "      <td>All GHG</td>\n",
       "      <td>MtCO₂e</td>\n",
       "      <td>7.21</td>\n",
       "      <td>7.26</td>\n",
       "      <td>7.43</td>\n",
       "      <td>7.49</td>\n",
       "      <td>7.47</td>\n",
       "      <td>...</td>\n",
       "      <td>8.33</td>\n",
       "      <td>8.39</td>\n",
       "      <td>8.57</td>\n",
       "      <td>8.70</td>\n",
       "      <td>8.67</td>\n",
       "      <td>9.07</td>\n",
       "      <td>9.17</td>\n",
       "      <td>9.52</td>\n",
       "      <td>9.76</td>\n",
       "      <td>9.81</td>\n",
       "    </tr>\n",
       "    <tr>\n",
       "      <th>1</th>\n",
       "      <td>Austria</td>\n",
       "      <td>CAIT</td>\n",
       "      <td>Agriculture</td>\n",
       "      <td>CH4</td>\n",
       "      <td>MtCO₂e</td>\n",
       "      <td>4.64</td>\n",
       "      <td>4.71</td>\n",
       "      <td>4.83</td>\n",
       "      <td>4.83</td>\n",
       "      <td>4.84</td>\n",
       "      <td>...</td>\n",
       "      <td>5.49</td>\n",
       "      <td>5.51</td>\n",
       "      <td>5.65</td>\n",
       "      <td>5.74</td>\n",
       "      <td>5.75</td>\n",
       "      <td>6.09</td>\n",
       "      <td>6.19</td>\n",
       "      <td>6.43</td>\n",
       "      <td>6.56</td>\n",
       "      <td>6.57</td>\n",
       "    </tr>\n",
       "    <tr>\n",
       "      <th>2</th>\n",
       "      <td>Austria</td>\n",
       "      <td>CAIT</td>\n",
       "      <td>Agriculture</td>\n",
       "      <td>N2O</td>\n",
       "      <td>MtCO₂e</td>\n",
       "      <td>2.57</td>\n",
       "      <td>2.55</td>\n",
       "      <td>2.60</td>\n",
       "      <td>2.66</td>\n",
       "      <td>2.64</td>\n",
       "      <td>...</td>\n",
       "      <td>2.84</td>\n",
       "      <td>2.88</td>\n",
       "      <td>2.92</td>\n",
       "      <td>2.96</td>\n",
       "      <td>2.91</td>\n",
       "      <td>2.98</td>\n",
       "      <td>2.98</td>\n",
       "      <td>3.09</td>\n",
       "      <td>3.20</td>\n",
       "      <td>3.24</td>\n",
       "    </tr>\n",
       "    <tr>\n",
       "      <th>3</th>\n",
       "      <td>Belgium</td>\n",
       "      <td>CAIT</td>\n",
       "      <td>Agriculture</td>\n",
       "      <td>All GHG</td>\n",
       "      <td>MtCO₂e</td>\n",
       "      <td>9.36</td>\n",
       "      <td>9.40</td>\n",
       "      <td>9.32</td>\n",
       "      <td>9.59</td>\n",
       "      <td>9.76</td>\n",
       "      <td>...</td>\n",
       "      <td>11.60</td>\n",
       "      <td>11.17</td>\n",
       "      <td>11.27</td>\n",
       "      <td>11.50</td>\n",
       "      <td>11.48</td>\n",
       "      <td>11.32</td>\n",
       "      <td>11.35</td>\n",
       "      <td>11.41</td>\n",
       "      <td>11.62</td>\n",
       "      <td>11.55</td>\n",
       "    </tr>\n",
       "    <tr>\n",
       "      <th>4</th>\n",
       "      <td>Belgium</td>\n",
       "      <td>CAIT</td>\n",
       "      <td>Agriculture</td>\n",
       "      <td>CH4</td>\n",
       "      <td>MtCO₂e</td>\n",
       "      <td>6.04</td>\n",
       "      <td>6.09</td>\n",
       "      <td>6.03</td>\n",
       "      <td>6.25</td>\n",
       "      <td>6.29</td>\n",
       "      <td>...</td>\n",
       "      <td>7.80</td>\n",
       "      <td>7.46</td>\n",
       "      <td>7.55</td>\n",
       "      <td>7.71</td>\n",
       "      <td>7.75</td>\n",
       "      <td>7.63</td>\n",
       "      <td>7.66</td>\n",
       "      <td>7.71</td>\n",
       "      <td>7.84</td>\n",
       "      <td>7.78</td>\n",
       "    </tr>\n",
       "  </tbody>\n",
       "</table>\n",
       "<p>5 rows × 35 columns</p>\n",
       "</div>"
      ],
      "text/plain": [
       "   Country Data source       Sector      Gas    Unit  2019  2018  2017  2016  \\\n",
       "0  Austria        CAIT  Agriculture  All GHG  MtCO₂e  7.21  7.26  7.43  7.49   \n",
       "1  Austria        CAIT  Agriculture      CH4  MtCO₂e  4.64  4.71  4.83  4.83   \n",
       "2  Austria        CAIT  Agriculture      N2O  MtCO₂e  2.57  2.55  2.60  2.66   \n",
       "3  Belgium        CAIT  Agriculture  All GHG  MtCO₂e  9.36  9.40  9.32  9.59   \n",
       "4  Belgium        CAIT  Agriculture      CH4  MtCO₂e  6.04  6.09  6.03  6.25   \n",
       "\n",
       "   2015  ...   1999   1998   1997   1996   1995   1994   1993   1992   1991  \\\n",
       "0  7.47  ...   8.33   8.39   8.57   8.70   8.67   9.07   9.17   9.52   9.76   \n",
       "1  4.84  ...   5.49   5.51   5.65   5.74   5.75   6.09   6.19   6.43   6.56   \n",
       "2  2.64  ...   2.84   2.88   2.92   2.96   2.91   2.98   2.98   3.09   3.20   \n",
       "3  9.76  ...  11.60  11.17  11.27  11.50  11.48  11.32  11.35  11.41  11.62   \n",
       "4  6.29  ...   7.80   7.46   7.55   7.71   7.75   7.63   7.66   7.71   7.84   \n",
       "\n",
       "    1990  \n",
       "0   9.81  \n",
       "1   6.57  \n",
       "2   3.24  \n",
       "3  11.55  \n",
       "4   7.78  \n",
       "\n",
       "[5 rows x 35 columns]"
      ]
     },
     "metadata": {},
     "output_type": "display_data"
    }
   ],
   "source": [
    "print('Notre DataFrame')\n",
    "display(df.head())\n",
    "\n",
    "print('ClimatWathData')\n",
    "display(df2.head())\n"
   ]
  },
  {
   "cell_type": "code",
   "execution_count": 3,
   "id": "a4d7e66c",
   "metadata": {},
   "outputs": [],
   "source": [
    "def verificateur (df, df2, pays, annee, gaz):\n",
    "    \n",
    "#Cette fonction compare les émissions de tous les secteurs, pour un gaz donné, un pays donné et une année donnée et renvoie \n",
    "#un booléen pour chaque secteur, True si les valeurs sont les mêmes et False si elles sont différentes\n",
    "    \n",
    "#Dans df l'année est de type 'int' alors que dans df2, l'année est le nom des colonnes donc ce n'est pas un 'int' mais 'str', \n",
    "#je change le type de la colonne année de df pour quelle devienne un string comme df2\n",
    "#c'est plus simple de changer le type d'une colonne en particulier que le type de l'indice d'une colonne\n",
    "\n",
    "#c'est pour ça que dans la fonction on doit indiquer l'année avec des guillements parce que c'est un str et non un int\n",
    "\n",
    "    df['year'] = df['year'].values.astype('str') \n",
    "    \n",
    "    \n",
    "    dfC = pd.DataFrame(index = df[(df['Country'] == pays) & (df['Gas'] == gaz) & (df['year'] == annee)]['Sector'].values,\n",
    "                   data =  df[(df['Country'] == pays) & (df['Gas'] == gaz) & (df['year'] == annee)]['cons'].values)\n",
    "    \n",
    "    dfB = pd.DataFrame(index = df2[(df2['Country'] == pays) & (df2['Gas'] == gaz)]['Sector'],\n",
    "                   data =  df2[(df2['Country'] == pays) & (df2['Gas'] == gaz)][annee].values)\n",
    "    \n",
    "    \n",
    "    return dfC.values == dfB.values\n"
   ]
  },
  {
   "cell_type": "code",
   "execution_count": 4,
   "id": "da1bd324",
   "metadata": {},
   "outputs": [
    {
     "name": "stdout",
     "output_type": "stream",
     "text": [
      "le nombre de valeurs différentes est de  85\n"
     ]
    }
   ],
   "source": [
    "#on vérifie avec une boucle sur les pays, les gaz et les années\n",
    "\n",
    "y=0\n",
    "for country in df.Country.unique():\n",
    "        for gaz in df.Gas.unique():    \n",
    "            for year in range (1990, 2020, 1):\n",
    "                year = str(year)\n",
    "                v = verificateur(df, df2, country, year, gaz)\n",
    "                x=list(v).count(False)\n",
    "                y += x\n",
    "        \n",
    "print('le nombre de valeurs différentes est de ', y)   \n"
   ]
  },
  {
   "cell_type": "markdown",
   "id": "a1a6e91d",
   "metadata": {},
   "source": [
    "Je fais une boucle pour sortir les pays, années et gaz concernés par les valeurs différentes"
   ]
  },
  {
   "cell_type": "code",
   "execution_count": 5,
   "id": "69922426",
   "metadata": {
    "scrolled": true
   },
   "outputs": [
    {
     "name": "stdout",
     "output_type": "stream",
     "text": [
      "Czech Republic 1990 CO2\n",
      "Czech Republic 1991 CO2\n",
      "Germany 1990 CO2\n",
      "Germany 2013 CO2\n",
      "Germany 2014 CO2\n",
      "Germany 2015 CO2\n",
      "Germany 2016 CO2\n",
      "Germany 2017 CO2\n",
      "Germany 2018 CO2\n",
      "Germany 2019 CO2\n",
      "Estonia 1990 CO2\n",
      "Estonia 1991 CO2\n",
      "France 1990 CO2\n",
      "France 1991 CO2\n",
      "France 1992 CO2\n",
      "France 1993 CO2\n",
      "France 1994 CO2\n",
      "France 1995 CO2\n",
      "France 1996 CO2\n",
      "France 1997 CO2\n",
      "France 1998 CO2\n",
      "France 1999 CO2\n",
      "France 2000 CO2\n",
      "France 2001 CO2\n",
      "France 2002 CO2\n",
      "France 2003 CO2\n",
      "France 2004 CO2\n",
      "France 2005 CO2\n",
      "France 2006 CO2\n",
      "France 2007 CO2\n",
      "France 2008 CO2\n",
      "France 2009 CO2\n",
      "France 2010 CO2\n",
      "France 2011 CO2\n",
      "France 2012 CO2\n",
      "Croatia 1990 CO2\n",
      "Croatia 1991 CO2\n",
      "Italy 1990 CO2\n",
      "Italy 1991 CO2\n",
      "Italy 1992 CO2\n",
      "Italy 1993 CO2\n",
      "Italy 1994 CO2\n",
      "Italy 1995 CO2\n",
      "Italy 1996 CO2\n",
      "Italy 1997 CO2\n",
      "Italy 1998 CO2\n",
      "Italy 1999 CO2\n",
      "Italy 2000 CO2\n",
      "Italy 2001 CO2\n",
      "Italy 2002 CO2\n",
      "Italy 2003 CO2\n",
      "Italy 2004 CO2\n",
      "Italy 2005 CO2\n",
      "Italy 2006 CO2\n",
      "Italy 2007 CO2\n",
      "Italy 2008 CO2\n",
      "Italy 2009 CO2\n",
      "Italy 2010 CO2\n",
      "Italy 2011 CO2\n",
      "Italy 2012 CO2\n",
      "Lithuania 1990 CO2\n",
      "Lithuania 1991 CO2\n",
      "Latvia 1990 CO2\n",
      "Latvia 1991 CO2\n",
      "Netherlands 2008 CO2\n",
      "Netherlands 2009 CO2\n",
      "Netherlands 2010 CO2\n",
      "Poland 1990 CO2\n",
      "Poland 1991 CO2\n",
      "Poland 1992 CO2\n",
      "Poland 1993 CO2\n",
      "Poland 1994 CO2\n",
      "Poland 1995 CO2\n",
      "Poland 1996 CO2\n",
      "Poland 1997 CO2\n",
      "Poland 1998 CO2\n",
      "Poland 1999 CO2\n",
      "Romania 1990 CO2\n",
      "Romania 1991 CO2\n",
      "Romania 1992 CO2\n",
      "Romania 1993 CO2\n",
      "Slovakia 1990 CO2\n",
      "Slovakia 1991 CO2\n",
      "Slovenia 1990 CO2\n",
      "Slovenia 1991 CO2\n"
     ]
    }
   ],
   "source": [
    "for country in df.Country.unique():\n",
    "    \n",
    "    for gaz in df.Gas.unique():\n",
    "            \n",
    "        for year in range (1990, 2020, 1):\n",
    "        \n",
    "            year = str(year)\n",
    "            v = verificateur(df, df2, country, year, gaz)\n",
    "            \n",
    "            if False in v:\n",
    "                \n",
    "                print(f'{country}',f'{year}',f'{gaz}')   "
   ]
  },
  {
   "cell_type": "markdown",
   "id": "9699e183",
   "metadata": {},
   "source": [
    " Toutes les valeurs différentes proviennent de la variable Gas = CO2"
   ]
  },
  {
   "cell_type": "code",
   "execution_count": 6,
   "id": "87787d96",
   "metadata": {},
   "outputs": [],
   "source": [
    "#Je fais une fonction verificateur2 qui montre les émissions par secteur de chaque DataFrame pour un pays et une année\n",
    "\n",
    "\n",
    "def verificateur2 (df, df2, pays, annee, gaz):\n",
    "    \n",
    "\n",
    "    df['year'] = df['year'].values.astype('str') \n",
    "    \n",
    "    \n",
    "    dfC = pd.DataFrame(index = df[(df['Country'] == pays) & (df['Gas'] == gaz) & (df['year'] == annee)]['Sector'].values,\n",
    "                   data =  df[(df['Country'] == pays) & (df['Gas'] == gaz) & (df['year'] == annee)]['cons'].values)\n",
    "    \n",
    "    dfB = pd.DataFrame(index = df2[(df2['Country'] == pays) & (df2['Gas'] == gaz)]['Sector'],\n",
    "                   data =  df2[(df2['Country'] == pays) & (df2['Gas'] == gaz)][annee].values)\n",
    "    \n",
    "    \n",
    "    return dfC, dfB\n"
   ]
  },
  {
   "cell_type": "code",
   "execution_count": 7,
   "id": "7be9e4b0",
   "metadata": {
    "scrolled": true
   },
   "outputs": [
    {
     "data": {
      "text/plain": [
       "array([[ True],\n",
       "       [ True],\n",
       "       [ True],\n",
       "       [ True],\n",
       "       [False],\n",
       "       [ True],\n",
       "       [ True],\n",
       "       [ True],\n",
       "       [ True],\n",
       "       [ True],\n",
       "       [ True]])"
      ]
     },
     "metadata": {},
     "output_type": "display_data"
    },
    {
     "data": {
      "text/plain": [
       "(                                   0\n",
       " Building                       23.23\n",
       " Bunker Fuels                    0.66\n",
       " Electricity/Heat               67.63\n",
       " Energy                        150.20\n",
       " Industrial Processes             NaN\n",
       " Land-Use Change and Forestry   -9.44\n",
       " Manufacturing/Construction     46.68\n",
       " Other Fuel Combustion           5.72\n",
       " Total excluding LUCF          150.20\n",
       " Total including LUCF          140.76\n",
       " Transportation                  6.95,\n",
       "                                    0\n",
       " Sector                              \n",
       " Building                       23.23\n",
       " Bunker Fuels                    0.66\n",
       " Electricity/Heat               67.63\n",
       " Energy                        150.20\n",
       " Industrial Processes             NaN\n",
       " Land-Use Change and Forestry   -9.44\n",
       " Manufacturing/Construction     46.68\n",
       " Other Fuel Combustion           5.72\n",
       " Total excluding LUCF          150.20\n",
       " Total including LUCF          140.76\n",
       " Transportation                  6.95)"
      ]
     },
     "metadata": {},
     "output_type": "display_data"
    }
   ],
   "source": [
    "#A l'aide de la fonction verificateur j'affiche le détail des secteurs qui sont concernés par la valeur différente\n",
    "\n",
    "display(verificateur (df, df2, 'Czech Republic', '1990', 'CO2'))\n",
    "\n",
    "#A l'aide de la fonction verificateur2 j'affiche les valeurs correspondentes \n",
    "\n",
    "display(verificateur2 (df, df2, 'Czech Republic', '1990', 'CO2'))\n"
   ]
  },
  {
   "cell_type": "markdown",
   "id": "d8d3a2f6",
   "metadata": {},
   "source": [
    "Avec verificateur on voit que la 5ème variable est différente entre les 2 fichiers\n"
   ]
  },
  {
   "cell_type": "markdown",
   "id": "92cf0e75",
   "metadata": {},
   "source": [
    "Avec verificateur 2 on voit que la 5ème colonne Industrial Processes contient des NaN"
   ]
  },
  {
   "cell_type": "code",
   "execution_count": 8,
   "id": "3aff1c3b",
   "metadata": {},
   "outputs": [],
   "source": [
    "#on compte les NaN présents dans nos 2 df à l'aide d'une fonction verificateur3 \n",
    "\n",
    "def verificateur3 (df, df2, pays, annee, gaz):\n",
    "    \n",
    "\n",
    "    df['year'] = df['year'].values.astype('str') \n",
    "    \n",
    "    \n",
    "    dfC = pd.DataFrame(index = df[(df['Country'] == pays) & (df['Gas'] == gaz) & (df['year'] == annee)]['Sector'].values,\n",
    "                   data =  df[(df['Country'] == pays) & (df['Gas'] == gaz) & (df['year'] == annee)]['cons'].values)\n",
    "    \n",
    "    Na_C = dfC.isna().sum()\n",
    "    \n",
    "    dfB = pd.DataFrame(index = df2[(df2['Country'] == pays) & (df2['Gas'] == gaz)]['Sector'],\n",
    "                   data =  df2[(df2['Country'] == pays) & (df2['Gas'] == gaz)][annee].values)\n",
    "    Na_B = dfB.isna().sum()\n",
    "    \n",
    "    return Na_C + Na_B\n"
   ]
  },
  {
   "cell_type": "code",
   "execution_count": 10,
   "id": "9ce3d649",
   "metadata": {},
   "outputs": [
    {
     "name": "stdout",
     "output_type": "stream",
     "text": [
      "le nombre de valeurs NaN est de  0    85.0\n",
      "dtype: float64\n"
     ]
    }
   ],
   "source": [
    "#On lance verif3 sur tous les pays, années et gaz\n",
    "y=0\n",
    "for country in df.Country.unique():\n",
    "        for gaz in df.Gas.unique():    \n",
    "            for year in range (1990, 2020, 1):\n",
    "                year = str(year)\n",
    "                v = verificateur3(df, df2, country, year, gaz)\n",
    "                y += v   #y nous donne les valeurs manquantes des DEUX df or les 85 valeurs différentes correspondent à la comparaison des 2 df\n",
    "y = y/2  #on doit donc diviser y par 2 pour avoir le nombres de valeurs différentes\n",
    "        \n",
    "print('le nombre de valeurs NaN est de ', y)   \n"
   ]
  },
  {
   "cell_type": "markdown",
   "id": "516653ff",
   "metadata": {},
   "source": [
    "Nous avons autant de valeurs différentes que de NaN, on peut donc en conclure que si on compare deux NaN de 2 df différents, la fonction les considères comme valeurs différentes.\n",
    "\n"
   ]
  },
  {
   "cell_type": "markdown",
   "id": "1cb5b842",
   "metadata": {},
   "source": [
    "Il suffit de supprimer/remplacer les NaN"
   ]
  },
  {
   "cell_type": "code",
   "execution_count": 13,
   "id": "eb1f5d1d",
   "metadata": {},
   "outputs": [],
   "source": [
    "df=df.fillna(0)\n",
    "df2=df2.fillna(0)"
   ]
  },
  {
   "cell_type": "code",
   "execution_count": 14,
   "id": "cd0c42ab",
   "metadata": {},
   "outputs": [
    {
     "name": "stdout",
     "output_type": "stream",
     "text": [
      "le nombre de valeurs différentes est de  0\n"
     ]
    }
   ],
   "source": [
    "#on vérifie avec une boucle sur les pays, les gaz et les années\n",
    "\n",
    "y=0\n",
    "for country in df.Country.unique():\n",
    "        for gaz in df.Gas.unique():    \n",
    "            for year in range (1990, 2020, 1):\n",
    "                year = str(year)\n",
    "                v = verificateur(df, df2, country, year, gaz)\n",
    "                x=list(v).count(False)\n",
    "                y += x\n",
    "        \n",
    "print('le nombre de valeurs différentes est de ', y)   \n"
   ]
  },
  {
   "cell_type": "markdown",
   "id": "33ff45d4",
   "metadata": {},
   "source": [
    "Les 2 df sont identiques "
   ]
  }
 ],
 "metadata": {
  "kernelspec": {
   "display_name": "Python 3 (ipykernel)",
   "language": "python",
   "name": "python3"
  },
  "language_info": {
   "codemirror_mode": {
    "name": "ipython",
    "version": 3
   },
   "file_extension": ".py",
   "mimetype": "text/x-python",
   "name": "python",
   "nbconvert_exporter": "python",
   "pygments_lexer": "ipython3",
   "version": "3.9.13"
  }
 },
 "nbformat": 4,
 "nbformat_minor": 5
}
